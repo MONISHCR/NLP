{
  "nbformat": 4,
  "nbformat_minor": 0,
  "metadata": {
    "colab": {
      "provenance": []
    },
    "kernelspec": {
      "name": "python3",
      "display_name": "Python 3"
    },
    "language_info": {
      "name": "python"
    }
  },
  "cells": [
    {
      "cell_type": "markdown",
      "source": [
        "**Task 1: Tokenize a paragraph**\n",
        "\n",
        "1.  Import necessary libraries (nltk for tokenization).\n",
        "2.  Define the paragraph to tokenize.\n",
        "3.  Tokenize the paragraph using nltk.word_tokenize().\n",
        "\n",
        "\n"
      ],
      "metadata": {
        "id": "e4WVZ0rKAk0i"
      }
    },
    {
      "cell_type": "code",
      "execution_count": null,
      "metadata": {
        "colab": {
          "base_uri": "https://localhost:8080/"
        },
        "id": "puwR4_Z1AXQX",
        "outputId": "16bb9630-6f13-486e-bd05-77e94818478d"
      },
      "outputs": [
        {
          "output_type": "stream",
          "name": "stderr",
          "text": [
            "[nltk_data] Downloading package punkt to /root/nltk_data...\n",
            "[nltk_data]   Unzipping tokenizers/punkt.zip.\n"
          ]
        },
        {
          "output_type": "stream",
          "name": "stdout",
          "text": [
            "['Keshav', 'Memorial', 'Institute', 'of', 'Technology', '(', 'KMIT', ')', 'is', 'a', 'prestigious', 'educational', 'institution', 'located', 'in', 'Hyderabad', ',', 'India', '.', 'Renowned', 'for', 'its', 'commitment', 'to', 'academic', 'excellence', 'and', 'innovation', ',', 'KMIT', 'has', 'established', 'itself', 'as', 'a', 'leading', 'technical', 'institute', 'in', 'the', 'region', '.', 'Equipped', 'with', 'state-of-the-art', 'facilities', 'and', 'a', 'dedicated', 'faculty', ',', 'the', 'institution', 'provides', 'a', 'conducive', 'learning', 'environment', 'for', 'students', 'to', 'thrive', '.', 'With', 'a', 'focus', 'on', 'practical', 'learning', 'and', 'industry', 'exposure', ',', 'KMIT', 'prepares', 'its', 'students', 'to', 'meet', 'the', 'demands', 'of', 'the', 'ever-evolving', 'technological', 'landscape', '.', 'The', 'institute', 'encourages', 'research', 'and', 'innovation', ',', 'fostering', 'a', 'culture', 'of', 'creativity', 'and', 'critical', 'thinking', 'among', 'its', 'students', '.', 'Beyond', 'academics', ',', 'KMIT', 'promotes', 'holistic', 'development', 'through', 'a', 'wide', 'range', 'of', 'extracurricular', 'activities', 'and', 'initiatives', '.', 'With', 'a', 'strong', 'emphasis', 'on', 'ethics', 'and', 'values', ',', 'the', 'institution', 'aims', 'to', 'mold', 'individuals', 'who', 'not', 'only', 'excel', 'in', 'their', 'chosen', 'fields', 'but', 'also', 'contribute', 'positively', 'to', 'society', '.', 'Through', 'partnerships', 'with', 'leading', 'industries', 'and', 'collaborations', 'with', 'academic', 'institutions', 'worldwide', ',', 'KMIT', 'ensures', 'that', 'its', 'graduates', 'are', 'well-equipped', 'to', 'succeed', 'in', 'the', 'global', 'marketplace', '.', 'In', 'essence', ',', 'Keshav', 'Memorial', 'Institute', 'of', 'Technology', 'is', 'not', 'just', 'a', 'center', 'for', 'education', ';', 'it', \"'s\", 'a', 'hub', 'of', 'innovation', 'and', 'excellence', ',', 'shaping', 'the', 'future', 'leaders', 'and', 'pioneers', 'of', 'tomorrow', '.']\n"
          ]
        }
      ],
      "source": [
        "# Subtask 1: Import necessary libraries\n",
        "import nltk\n",
        "nltk.download('punkt')  # Download necessary data for tokenization\n",
        "\n",
        "# Subtask 2: Define the paragraph\n",
        "paragraph = \"Keshav Memorial Institute of Technology (KMIT) is a prestigious educational institution located in Hyderabad, India. Renowned for its commitment to academic excellence and innovation, KMIT has established itself as a leading technical institute in the region. Equipped with state-of-the-art facilities and a dedicated faculty, the institution provides a conducive learning environment for students to thrive. With a focus on practical learning and industry exposure, KMIT prepares its students to meet the demands of the ever-evolving technological landscape. The institute encourages research and innovation, fostering a culture of creativity and critical thinking among its students. Beyond academics, KMIT promotes holistic development through a wide range of extracurricular activities and initiatives. With a strong emphasis on ethics and values, the institution aims to mold individuals who not only excel in their chosen fields but also contribute positively to society. Through partnerships with leading industries and collaborations with academic institutions worldwide, KMIT ensures that its graduates are well-equipped to succeed in the global marketplace. In essence, Keshav Memorial Institute of Technology is not just a center for education; it's a hub of innovation and excellence, shaping the future leaders and pioneers of tomorrow.\"\n",
        "\n",
        "\n",
        "# Subtask 3: Tokenize the paragraph\n",
        "tokens = nltk.word_tokenize(paragraph)\n",
        "print(tokens)\n"
      ]
    },
    {
      "cell_type": "markdown",
      "source": [
        "**Task 2: Combine 2 or 3 words (bigram or trigram)**\n",
        "1.   Import necessary libraries (nltk for collocations).\n",
        "2.   Generate bigrams or trigrams using nltk.collocations.\n",
        "\n",
        "\n"
      ],
      "metadata": {
        "id": "ADvF3HaPA6yo"
      }
    },
    {
      "cell_type": "code",
      "source": [
        "# Subtask 1: Import necessary libraries\n",
        "from nltk.collocations import BigramCollocationFinder, TrigramCollocationFinder\n",
        "from nltk.metrics import BigramAssocMeasures, TrigramAssocMeasures\n",
        "\n",
        "# Subtask 2: Generate bigrams or trigrams\n",
        "bigram_measures = BigramAssocMeasures()\n",
        "trigram_measures = TrigramAssocMeasures()\n",
        "\n",
        "# Example for bigrams\n",
        "bigram_finder = BigramCollocationFinder.from_words(tokens)\n",
        "bigrams = bigram_finder.nbest(bigram_measures.pmi, 5)  # You can adjust the number\n",
        "print(\"Bigrams:\", bigrams)\n",
        "\n",
        "# Example for trigrams\n",
        "trigram_finder = TrigramCollocationFinder.from_words(tokens)\n",
        "trigrams = trigram_finder.nbest(trigram_measures.pmi, 5)  # You can adjust the number\n",
        "print(\"Trigrams:\", trigrams)\n"
      ],
      "metadata": {
        "colab": {
          "base_uri": "https://localhost:8080/"
        },
        "id": "mnPcYFsgBHMj",
        "outputId": "d8958998-dfe8-49f6-c081-17d1ff1f4224"
      },
      "execution_count": null,
      "outputs": [
        {
          "output_type": "stream",
          "name": "stdout",
          "text": [
            "Bigrams: [(';', 'it'), ('Beyond', 'academics'), ('In', 'essence'), ('Through', 'partnerships'), ('also', 'contribute')]\n",
            "Trigrams: [(';', 'it', \"'s\"), ('also', 'contribute', 'positively'), ('but', 'also', 'contribute'), ('chosen', 'fields', 'but'), ('critical', 'thinking', 'among')]\n"
          ]
        }
      ]
    },
    {
      "cell_type": "markdown",
      "source": [
        "**Task 3: Apply stemming**\n",
        "1. Import necessary libraries (nltk for stemming).\n",
        "2. Define the paragraph or tokens.\n",
        "3. Apply stemming using different stemmers available in nltk."
      ],
      "metadata": {
        "id": "IhxEAXblBlS9"
      }
    },
    {
      "cell_type": "code",
      "source": [
        "# Subtask 1: Import necessary libraries\n",
        "from nltk.stem import PorterStemmer, SnowballStemmer, LancasterStemmer\n",
        "\n",
        "# Subtask 2: Define the tokens (already done in Task 1)\n",
        "\n",
        "# Subtask 3: Apply stemming\n",
        "# Porter Stemmer\n",
        "porter = PorterStemmer()\n",
        "stemmed_tokens_porter = [porter.stem(token) for token in tokens]\n",
        "print(\"Porter Stemmer:\", stemmed_tokens_porter)\n",
        "\n",
        "# Snowball Stemmer\n",
        "snowball = SnowballStemmer(\"english\")\n",
        "stemmed_tokens_snowball = [snowball.stem(token) for token in tokens]\n",
        "print(\"Snowball Stemmer:\", stemmed_tokens_snowball)\n",
        "\n",
        "# Lancaster Stemmer\n",
        "lancaster = LancasterStemmer()\n",
        "stemmed_tokens_lancaster = [lancaster.stem(token) for token in tokens]\n",
        "print(\"Lancaster Stemmer:\", stemmed_tokens_lancaster)\n"
      ],
      "metadata": {
        "colab": {
          "base_uri": "https://localhost:8080/"
        },
        "id": "QZOalgS7Bk-k",
        "outputId": "320069f0-16fa-4ceb-c26e-909202d7bd95"
      },
      "execution_count": null,
      "outputs": [
        {
          "output_type": "stream",
          "name": "stdout",
          "text": [
            "Porter Stemmer: ['keshav', 'memori', 'institut', 'of', 'technolog', '(', 'kmit', ')', 'is', 'a', 'prestigi', 'educ', 'institut', 'locat', 'in', 'hyderabad', ',', 'india', '.', 'renown', 'for', 'it', 'commit', 'to', 'academ', 'excel', 'and', 'innov', ',', 'kmit', 'ha', 'establish', 'itself', 'as', 'a', 'lead', 'technic', 'institut', 'in', 'the', 'region', '.', 'equip', 'with', 'state-of-the-art', 'facil', 'and', 'a', 'dedic', 'faculti', ',', 'the', 'institut', 'provid', 'a', 'conduc', 'learn', 'environ', 'for', 'student', 'to', 'thrive', '.', 'with', 'a', 'focu', 'on', 'practic', 'learn', 'and', 'industri', 'exposur', ',', 'kmit', 'prepar', 'it', 'student', 'to', 'meet', 'the', 'demand', 'of', 'the', 'ever-evolv', 'technolog', 'landscap', '.', 'the', 'institut', 'encourag', 'research', 'and', 'innov', ',', 'foster', 'a', 'cultur', 'of', 'creativ', 'and', 'critic', 'think', 'among', 'it', 'student', '.', 'beyond', 'academ', ',', 'kmit', 'promot', 'holist', 'develop', 'through', 'a', 'wide', 'rang', 'of', 'extracurricular', 'activ', 'and', 'initi', '.', 'with', 'a', 'strong', 'emphasi', 'on', 'ethic', 'and', 'valu', ',', 'the', 'institut', 'aim', 'to', 'mold', 'individu', 'who', 'not', 'onli', 'excel', 'in', 'their', 'chosen', 'field', 'but', 'also', 'contribut', 'posit', 'to', 'societi', '.', 'through', 'partnership', 'with', 'lead', 'industri', 'and', 'collabor', 'with', 'academ', 'institut', 'worldwid', ',', 'kmit', 'ensur', 'that', 'it', 'graduat', 'are', 'well-equip', 'to', 'succeed', 'in', 'the', 'global', 'marketplac', '.', 'in', 'essenc', ',', 'keshav', 'memori', 'institut', 'of', 'technolog', 'is', 'not', 'just', 'a', 'center', 'for', 'educ', ';', 'it', \"'s\", 'a', 'hub', 'of', 'innov', 'and', 'excel', ',', 'shape', 'the', 'futur', 'leader', 'and', 'pioneer', 'of', 'tomorrow', '.']\n",
            "Snowball Stemmer: ['keshav', 'memori', 'institut', 'of', 'technolog', '(', 'kmit', ')', 'is', 'a', 'prestigi', 'educ', 'institut', 'locat', 'in', 'hyderabad', ',', 'india', '.', 'renown', 'for', 'it', 'commit', 'to', 'academ', 'excel', 'and', 'innov', ',', 'kmit', 'has', 'establish', 'itself', 'as', 'a', 'lead', 'technic', 'institut', 'in', 'the', 'region', '.', 'equip', 'with', 'state-of-the-art', 'facil', 'and', 'a', 'dedic', 'faculti', ',', 'the', 'institut', 'provid', 'a', 'conduc', 'learn', 'environ', 'for', 'student', 'to', 'thrive', '.', 'with', 'a', 'focus', 'on', 'practic', 'learn', 'and', 'industri', 'exposur', ',', 'kmit', 'prepar', 'it', 'student', 'to', 'meet', 'the', 'demand', 'of', 'the', 'ever-evolv', 'technolog', 'landscap', '.', 'the', 'institut', 'encourag', 'research', 'and', 'innov', ',', 'foster', 'a', 'cultur', 'of', 'creativ', 'and', 'critic', 'think', 'among', 'it', 'student', '.', 'beyond', 'academ', ',', 'kmit', 'promot', 'holist', 'develop', 'through', 'a', 'wide', 'rang', 'of', 'extracurricular', 'activ', 'and', 'initi', '.', 'with', 'a', 'strong', 'emphasi', 'on', 'ethic', 'and', 'valu', ',', 'the', 'institut', 'aim', 'to', 'mold', 'individu', 'who', 'not', 'onli', 'excel', 'in', 'their', 'chosen', 'field', 'but', 'also', 'contribut', 'posit', 'to', 'societi', '.', 'through', 'partnership', 'with', 'lead', 'industri', 'and', 'collabor', 'with', 'academ', 'institut', 'worldwid', ',', 'kmit', 'ensur', 'that', 'it', 'graduat', 'are', 'well-equip', 'to', 'succeed', 'in', 'the', 'global', 'marketplac', '.', 'in', 'essenc', ',', 'keshav', 'memori', 'institut', 'of', 'technolog', 'is', 'not', 'just', 'a', 'center', 'for', 'educ', ';', 'it', \"'s\", 'a', 'hub', 'of', 'innov', 'and', 'excel', ',', 'shape', 'the', 'futur', 'leader', 'and', 'pioneer', 'of', 'tomorrow', '.']\n",
            "Lancaster Stemmer: ['keshav', 'mem', 'institut', 'of', 'technolog', '(', 'kmit', ')', 'is', 'a', 'prestigy', 'educ', 'institut', 'loc', 'in', 'hyderabad', ',', 'ind', '.', 'renown', 'for', 'it', 'commit', 'to', 'academ', 'excel', 'and', 'innov', ',', 'kmit', 'has', 'est', 'itself', 'as', 'a', 'lead', 'techn', 'institut', 'in', 'the', 'reg', '.', 'equip', 'with', 'state-of-the-art', 'facil', 'and', 'a', 'ded', 'facul', ',', 'the', 'institut', 'provid', 'a', 'conduc', 'learn', 'environ', 'for', 'stud', 'to', 'thrive', '.', 'with', 'a', 'foc', 'on', 'pract', 'learn', 'and', 'industry', 'expos', ',', 'kmit', 'prep', 'it', 'stud', 'to', 'meet', 'the', 'demand', 'of', 'the', 'ever-evolving', 'technolog', 'landscap', '.', 'the', 'institut', 'enco', 'research', 'and', 'innov', ',', 'fost', 'a', 'cult', 'of', 'cre', 'and', 'crit', 'think', 'among', 'it', 'stud', '.', 'beyond', 'academ', ',', 'kmit', 'promot', 'hol', 'develop', 'through', 'a', 'wid', 'rang', 'of', 'extracurricul', 'act', 'and', 'in', '.', 'with', 'a', 'strong', 'emphas', 'on', 'eth', 'and', 'valu', ',', 'the', 'institut', 'aim', 'to', 'mold', 'individ', 'who', 'not', 'on', 'excel', 'in', 'their', 'chos', 'field', 'but', 'also', 'contribut', 'posit', 'to', 'socy', '.', 'through', 'partn', 'with', 'lead', 'industry', 'and', 'collab', 'with', 'academ', 'institut', 'worldwid', ',', 'kmit', 'ens', 'that', 'it', 'gradu', 'ar', 'well-equipped', 'to', 'success', 'in', 'the', 'glob', 'marketplac', '.', 'in', 'ess', ',', 'keshav', 'mem', 'institut', 'of', 'technolog', 'is', 'not', 'just', 'a', 'cent', 'for', 'educ', ';', 'it', \"'s\", 'a', 'hub', 'of', 'innov', 'and', 'excel', ',', 'shap', 'the', 'fut', 'lead', 'and', 'pion', 'of', 'tomorrow', '.']\n"
          ]
        }
      ]
    },
    {
      "cell_type": "markdown",
      "source": [
        "**Task 4: Lemmatize the Entire Text**\n",
        "1. Import Necessary Libraries\n",
        "2. Preprocess the Text\n",
        "3. Tokenize the Text\n",
        "4. Lemmatize the Tokens"
      ],
      "metadata": {
        "id": "y_xAtLsiCl04"
      }
    },
    {
      "cell_type": "code",
      "source": [
        "import nltk\n",
        "\n",
        "nltk.download('wordnet')\n"
      ],
      "metadata": {
        "colab": {
          "base_uri": "https://localhost:8080/"
        },
        "id": "rG7P2C5UC65v",
        "outputId": "ecc36e5d-c21a-4cde-cb6a-118288cbbe62"
      },
      "execution_count": null,
      "outputs": [
        {
          "output_type": "stream",
          "name": "stderr",
          "text": [
            "[nltk_data] Downloading package wordnet to /root/nltk_data...\n"
          ]
        },
        {
          "output_type": "execute_result",
          "data": {
            "text/plain": [
              "True"
            ]
          },
          "metadata": {},
          "execution_count": 5
        }
      ]
    },
    {
      "cell_type": "code",
      "source": [
        "# Subtask 1: Import necessary libraries\n",
        "from nltk.stem import WordNetLemmatizer\n",
        "from nltk.tokenize import word_tokenize\n",
        "import string\n",
        "\n",
        "# Convert the paragraph to lowercase\n",
        "paragraph_lower = paragraph.lower()\n",
        "\n",
        "# Remove punctuation\n",
        "paragraph_no_punct = paragraph_lower.translate(str.maketrans('', '', string.punctuation))\n",
        "\n",
        "# Subtask 3: Tokenize the text\n",
        "tokens = word_tokenize(paragraph_no_punct)\n",
        "\n",
        "# Subtask 4: Lemmatize the tokens\n",
        "lemmatizer = WordNetLemmatizer()\n",
        "lemmatized_tokens = [lemmatizer.lemmatize(token) for token in tokens]\n",
        "\n",
        "# Print the lemmatized tokens\n",
        "print(\"Lemmatized Tokens:\", lemmatized_tokens)\n"
      ],
      "metadata": {
        "colab": {
          "base_uri": "https://localhost:8080/"
        },
        "id": "DzKfsFLMB2JF",
        "outputId": "64a0c586-a477-4771-cea5-607e77890600"
      },
      "execution_count": null,
      "outputs": [
        {
          "output_type": "stream",
          "name": "stdout",
          "text": [
            "Lemmatized Tokens: ['keshav', 'memorial', 'institute', 'of', 'technology', 'kmit', 'is', 'a', 'prestigious', 'educational', 'institution', 'located', 'in', 'hyderabad', 'india', 'renowned', 'for', 'it', 'commitment', 'to', 'academic', 'excellence', 'and', 'innovation', 'kmit', 'ha', 'established', 'itself', 'a', 'a', 'leading', 'technical', 'institute', 'in', 'the', 'region', 'equipped', 'with', 'stateoftheart', 'facility', 'and', 'a', 'dedicated', 'faculty', 'the', 'institution', 'provides', 'a', 'conducive', 'learning', 'environment', 'for', 'student', 'to', 'thrive', 'with', 'a', 'focus', 'on', 'practical', 'learning', 'and', 'industry', 'exposure', 'kmit', 'prepares', 'it', 'student', 'to', 'meet', 'the', 'demand', 'of', 'the', 'everevolving', 'technological', 'landscape', 'the', 'institute', 'encourages', 'research', 'and', 'innovation', 'fostering', 'a', 'culture', 'of', 'creativity', 'and', 'critical', 'thinking', 'among', 'it', 'student', 'beyond', 'academic', 'kmit', 'promotes', 'holistic', 'development', 'through', 'a', 'wide', 'range', 'of', 'extracurricular', 'activity', 'and', 'initiative', 'with', 'a', 'strong', 'emphasis', 'on', 'ethic', 'and', 'value', 'the', 'institution', 'aim', 'to', 'mold', 'individual', 'who', 'not', 'only', 'excel', 'in', 'their', 'chosen', 'field', 'but', 'also', 'contribute', 'positively', 'to', 'society', 'through', 'partnership', 'with', 'leading', 'industry', 'and', 'collaboration', 'with', 'academic', 'institution', 'worldwide', 'kmit', 'ensures', 'that', 'it', 'graduate', 'are', 'wellequipped', 'to', 'succeed', 'in', 'the', 'global', 'marketplace', 'in', 'essence', 'keshav', 'memorial', 'institute', 'of', 'technology', 'is', 'not', 'just', 'a', 'center', 'for', 'education', 'it', 'a', 'hub', 'of', 'innovation', 'and', 'excellence', 'shaping', 'the', 'future', 'leader', 'and', 'pioneer', 'of', 'tomorrow']\n"
          ]
        }
      ]
    },
    {
      "cell_type": "markdown",
      "source": [
        "**TASK 5: REMOVE STOP WORDS**\n",
        "1.   Import the NLTK library for stopwords.\n",
        "2. Download the NLTK stopwords if they are not already available.\n",
        "3. Obtain the English stopwords from NLTK's corpus.\n",
        "4. Iterate through the lemmatized tokens using list comprehension.\n",
        "5. Filter out tokens that are stopwords.\n",
        "6. Print the filtered tokens, which represent the lemmatized tokens without stopwords.\n"
      ],
      "metadata": {
        "id": "UyI3V3esETnN"
      }
    },
    {
      "cell_type": "code",
      "source": [
        "from nltk.corpus import stopwords\n",
        "\n",
        "# Download NLTK stopwords if not already downloaded\n",
        "import nltk\n",
        "nltk.download('stopwords')\n",
        "\n",
        "# Get the English stopwords\n",
        "stop_words = set(stopwords.words('english'))\n",
        "\n",
        "# Filter out stopwords from lemmatized tokens\n",
        "filtered_tokens = [token for token in lemmatized_tokens if token not in stop_words]\n",
        "\n",
        "# Print the filtered tokens\n",
        "print(\"Filtered Tokens (without stopwords):\", filtered_tokens)\n"
      ],
      "metadata": {
        "colab": {
          "base_uri": "https://localhost:8080/"
        },
        "id": "4vlbyi3iDEX3",
        "outputId": "a4053878-3d1f-471e-e65b-16ab0647dd52"
      },
      "execution_count": null,
      "outputs": [
        {
          "output_type": "stream",
          "name": "stdout",
          "text": [
            "Filtered Tokens (without stopwords): ['keshav', 'memorial', 'institute', 'technology', 'kmit', 'prestigious', 'educational', 'institution', 'located', 'hyderabad', 'india', 'renowned', 'commitment', 'academic', 'excellence', 'innovation', 'kmit', 'ha', 'established', 'leading', 'technical', 'institute', 'region', 'equipped', 'stateoftheart', 'facility', 'dedicated', 'faculty', 'institution', 'provides', 'conducive', 'learning', 'environment', 'student', 'thrive', 'focus', 'practical', 'learning', 'industry', 'exposure', 'kmit', 'prepares', 'student', 'meet', 'demand', 'everevolving', 'technological', 'landscape', 'institute', 'encourages', 'research', 'innovation', 'fostering', 'culture', 'creativity', 'critical', 'thinking', 'among', 'student', 'beyond', 'academic', 'kmit', 'promotes', 'holistic', 'development', 'wide', 'range', 'extracurricular', 'activity', 'initiative', 'strong', 'emphasis', 'ethic', 'value', 'institution', 'aim', 'mold', 'individual', 'excel', 'chosen', 'field', 'also', 'contribute', 'positively', 'society', 'partnership', 'leading', 'industry', 'collaboration', 'academic', 'institution', 'worldwide', 'kmit', 'ensures', 'graduate', 'wellequipped', 'succeed', 'global', 'marketplace', 'essence', 'keshav', 'memorial', 'institute', 'technology', 'center', 'education', 'hub', 'innovation', 'excellence', 'shaping', 'future', 'leader', 'pioneer', 'tomorrow']\n"
          ]
        },
        {
          "output_type": "stream",
          "name": "stderr",
          "text": [
            "[nltk_data] Downloading package stopwords to /root/nltk_data...\n",
            "[nltk_data]   Unzipping corpora/stopwords.zip.\n"
          ]
        }
      ]
    },
    {
      "cell_type": "markdown",
      "source": [
        "**TASK 6: IMPLEMENT POS TAGGING FOR EVERY WORD**\n",
        "1. We import the NLTK library.\n",
        "2. We apply POS tagging to the filtered tokens using the nltk.pos_tag() function.\n",
        "3. Finally, we print the POS tagged tokens"
      ],
      "metadata": {
        "id": "QhRfrFGcE676"
      }
    },
    {
      "cell_type": "code",
      "source": [
        "nltk.download('averaged_perceptron_tagger')"
      ],
      "metadata": {
        "colab": {
          "base_uri": "https://localhost:8080/"
        },
        "id": "wes9BpYcFQSD",
        "outputId": "2067ec56-5969-45a7-aaaa-d1bb5b5de5f9"
      },
      "execution_count": null,
      "outputs": [
        {
          "output_type": "stream",
          "name": "stderr",
          "text": [
            "[nltk_data] Downloading package averaged_perceptron_tagger to\n",
            "[nltk_data]     /root/nltk_data...\n",
            "[nltk_data]   Unzipping taggers/averaged_perceptron_tagger.zip.\n"
          ]
        },
        {
          "output_type": "execute_result",
          "data": {
            "text/plain": [
              "True"
            ]
          },
          "metadata": {},
          "execution_count": 9
        }
      ]
    },
    {
      "cell_type": "code",
      "source": [
        "import nltk\n",
        "\n",
        "# Perform POS tagging on filtered tokens\n",
        "pos_tags = nltk.pos_tag(filtered_tokens)\n",
        "\n",
        "# Print the POS tagged tokens\n",
        "print(\"POS Tagged Tokens:\", pos_tags)\n"
      ],
      "metadata": {
        "colab": {
          "base_uri": "https://localhost:8080/"
        },
        "id": "ykLs1LE9Elqa",
        "outputId": "c6a65948-d8c1-4137-90b2-6132ddf73fcc"
      },
      "execution_count": null,
      "outputs": [
        {
          "output_type": "stream",
          "name": "stdout",
          "text": [
            "POS Tagged Tokens: [('keshav', 'VB'), ('memorial', 'JJ'), ('institute', 'NN'), ('technology', 'NN'), ('kmit', 'VBP'), ('prestigious', 'JJ'), ('educational', 'JJ'), ('institution', 'NN'), ('located', 'VBN'), ('hyderabad', 'JJ'), ('india', 'NN'), ('renowned', 'VBD'), ('commitment', 'JJ'), ('academic', 'JJ'), ('excellence', 'NN'), ('innovation', 'NN'), ('kmit', 'NN'), ('ha', 'NN'), ('established', 'VBD'), ('leading', 'VBG'), ('technical', 'JJ'), ('institute', 'JJ'), ('region', 'NN'), ('equipped', 'VBD'), ('stateoftheart', 'JJ'), ('facility', 'NN'), ('dedicated', 'VBN'), ('faculty', 'JJ'), ('institution', 'NN'), ('provides', 'VBZ'), ('conducive', 'JJ'), ('learning', 'VBG'), ('environment', 'NN'), ('student', 'NN'), ('thrive', 'JJ'), ('focus', 'NN'), ('practical', 'JJ'), ('learning', 'NN'), ('industry', 'NN'), ('exposure', 'NN'), ('kmit', 'NN'), ('prepares', 'VBZ'), ('student', 'JJ'), ('meet', 'JJ'), ('demand', 'NN'), ('everevolving', 'VBG'), ('technological', 'JJ'), ('landscape', 'NN'), ('institute', 'NN'), ('encourages', 'VBZ'), ('research', 'NN'), ('innovation', 'NN'), ('fostering', 'VBG'), ('culture', 'NN'), ('creativity', 'NN'), ('critical', 'JJ'), ('thinking', 'NN'), ('among', 'IN'), ('student', 'JJ'), ('beyond', 'IN'), ('academic', 'JJ'), ('kmit', 'NN'), ('promotes', 'VBZ'), ('holistic', 'JJ'), ('development', 'NN'), ('wide', 'JJ'), ('range', 'NN'), ('extracurricular', 'JJ'), ('activity', 'NN'), ('initiative', 'NN'), ('strong', 'JJ'), ('emphasis', 'NN'), ('ethic', 'JJ'), ('value', 'NN'), ('institution', 'NN'), ('aim', 'NN'), ('mold', 'VBD'), ('individual', 'JJ'), ('excel', 'RB'), ('chosen', 'VBN'), ('field', 'NN'), ('also', 'RB'), ('contribute', 'VBP'), ('positively', 'RB'), ('society', 'NN'), ('partnership', 'NN'), ('leading', 'VBG'), ('industry', 'NN'), ('collaboration', 'NN'), ('academic', 'JJ'), ('institution', 'NN'), ('worldwide', 'IN'), ('kmit', 'NN'), ('ensures', 'NNS'), ('graduate', 'VBP'), ('wellequipped', 'VBD'), ('succeed', 'VB'), ('global', 'JJ'), ('marketplace', 'NN'), ('essence', 'NN'), ('keshav', 'VBD'), ('memorial', 'JJ'), ('institute', 'NN'), ('technology', 'NN'), ('center', 'NN'), ('education', 'NN'), ('hub', 'NN'), ('innovation', 'NN'), ('excellence', 'NN'), ('shaping', 'VBG'), ('future', 'JJ'), ('leader', 'NN'), ('pioneer', 'NN'), ('tomorrow', 'NN')]\n"
          ]
        }
      ]
    },
    {
      "cell_type": "code",
      "source": [],
      "metadata": {
        "id": "_UE6H8g_FK8p"
      },
      "execution_count": null,
      "outputs": []
    }
  ]
}