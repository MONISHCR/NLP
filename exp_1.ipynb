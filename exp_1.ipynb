{
  "cells": [
    {
      "cell_type": "markdown",
      "metadata": {
        "id": "P4eJLF2OOsCT"
      },
      "source": [
        "**Spacy**"
      ]
    },
    {
      "cell_type": "code",
      "execution_count": null,
      "metadata": {
        "id": "SQ3ndZYIUGT-"
      },
      "outputs": [],
      "source": [
        "import spacy"
      ]
    },
    {
      "cell_type": "code",
      "execution_count": null,
      "metadata": {
        "id": "bvnxda9JUzp4"
      },
      "outputs": [],
      "source": [
        "sp = spacy.load(\"en_core_web_sm\")"
      ]
    },
    {
      "cell_type": "code",
      "execution_count": null,
      "metadata": {
        "colab": {
          "base_uri": "https://localhost:8080/"
        },
        "id": "LQvmxCRCVFkM",
        "outputId": "64fc53ee-b532-439f-e0f7-bc00aa977211"
      },
      "outputs": [
        {
          "output_type": "execute_result",
          "data": {
            "text/plain": [
              "<spacy.lang.en.English at 0x7af22e6f6260>"
            ]
          },
          "metadata": {},
          "execution_count": 3
        }
      ],
      "source": [
        "sp"
      ]
    },
    {
      "cell_type": "code",
      "execution_count": null,
      "metadata": {
        "id": "fpYYnh8ZVH14"
      },
      "outputs": [],
      "source": [
        "NLP = spacy.load(\"en_core_web_sm\")"
      ]
    },
    {
      "cell_type": "code",
      "execution_count": null,
      "metadata": {
        "colab": {
          "base_uri": "https://localhost:8080/"
        },
        "id": "RlV6SttBVOE1",
        "outputId": "557acd87-b36c-4879-dfc1-d6cb03de76e1"
      },
      "outputs": [
        {
          "output_type": "execute_result",
          "data": {
            "text/plain": [
              "<spacy.lang.en.English at 0x7af22e536560>"
            ]
          },
          "metadata": {},
          "execution_count": 5
        }
      ],
      "source": [
        "NLP"
      ]
    },
    {
      "cell_type": "code",
      "execution_count": null,
      "metadata": {
        "colab": {
          "base_uri": "https://localhost:8080/"
        },
        "id": "0RSAUFqwVaNn",
        "outputId": "e1e00549-02c5-4564-b0ac-e1f149725419"
      },
      "outputs": [
        {
          "output_type": "execute_result",
          "data": {
            "text/plain": [
              "['tok2vec', 'tagger', 'parser', 'attribute_ruler', 'lemmatizer', 'ner']"
            ]
          },
          "metadata": {},
          "execution_count": 6
        }
      ],
      "source": [
        "NLP.pipe_names"
      ]
    },
    {
      "cell_type": "code",
      "execution_count": null,
      "metadata": {
        "colab": {
          "base_uri": "https://localhost:8080/"
        },
        "id": "HKjjjZgfVnm7",
        "outputId": "c0ca0b15-aafa-4381-c253-d59159e9fdc1"
      },
      "outputs": [
        {
          "output_type": "execute_result",
          "data": {
            "text/plain": [
              "['tagger', 'parser']"
            ]
          },
          "metadata": {},
          "execution_count": 7
        }
      ],
      "source": [
        "NLP.disable_pipes('tagger','parser')"
      ]
    },
    {
      "cell_type": "code",
      "execution_count": null,
      "metadata": {
        "colab": {
          "base_uri": "https://localhost:8080/"
        },
        "id": "R-fB_ZNuVv8J",
        "outputId": "3dee6301-7e23-45b7-9ff7-c0aabc4fec6e"
      },
      "outputs": [
        {
          "output_type": "execute_result",
          "data": {
            "text/plain": [
              "['tok2vec', 'attribute_ruler', 'lemmatizer', 'ner']"
            ]
          },
          "metadata": {},
          "execution_count": 8
        }
      ],
      "source": [
        "NLP.pipe_names"
      ]
    },
    {
      "cell_type": "code",
      "execution_count": null,
      "metadata": {
        "id": "8TxcgWrGV_84"
      },
      "outputs": [],
      "source": [
        "#a.Install English Language models to find words,phrases,names\n",
        "import en_core_web_sm\n",
        "nlp = en_core_web_sm.load()"
      ]
    },
    {
      "cell_type": "code",
      "execution_count": null,
      "metadata": {
        "id": "d8qpzM45WYdv"
      },
      "outputs": [],
      "source": [
        "from spacy.lang.en import English\n",
        "nlp = English()"
      ]
    },
    {
      "cell_type": "code",
      "execution_count": null,
      "metadata": {
        "id": "FHqfRQUDWjCt"
      },
      "outputs": [],
      "source": [
        "nlp = spacy.blank(\"en\")"
      ]
    },
    {
      "cell_type": "code",
      "execution_count": null,
      "metadata": {
        "id": "p_EOMDnvXxk7",
        "colab": {
          "base_uri": "https://localhost:8080/"
        },
        "outputId": "7961c228-2095-49d2-902b-e7d86aea1363"
      },
      "outputs": [
        {
          "output_type": "stream",
          "name": "stdout",
          "text": [
            "['Marton J', 'Thomson is known for his writing skills', ' He is also good at programming', '']\n"
          ]
        }
      ],
      "source": [
        "#simple python code\n",
        "text = \"Marton J.Thomson is known for his writing skills. He is also good at programming.\"\n",
        "new = text.split(\".\")\n",
        "print(new)"
      ]
    },
    {
      "cell_type": "code",
      "execution_count": null,
      "metadata": {
        "id": "yEEhdNOvZPMi",
        "colab": {
          "base_uri": "https://localhost:8080/"
        },
        "outputId": "4c179f6b-8225-405f-f73d-c334f3b79b7b"
      },
      "outputs": [
        {
          "output_type": "stream",
          "name": "stdout",
          "text": [
            "Martin J. Thompson is known for his writing skills. He is also good at programming.\n"
          ]
        }
      ],
      "source": [
        "text1 = \"Martin J. Thompson is known for his writing skills. He is also good at programming.\"\n",
        "#process the text\n",
        "doc = nlp(text1)\n",
        "#print the document text\n",
        "print(doc.text)"
      ]
    },
    {
      "cell_type": "markdown",
      "metadata": {
        "id": "58fuDre8bQoH"
      },
      "source": [
        "**SENTENCE TOKENIZATION**"
      ]
    },
    {
      "cell_type": "code",
      "execution_count": null,
      "metadata": {
        "id": "Fvnfmgxeaf5S",
        "colab": {
          "base_uri": "https://localhost:8080/"
        },
        "outputId": "6f0113c7-19cd-4e4b-d118-e697ef6a9375"
      },
      "outputs": [
        {
          "output_type": "stream",
          "name": "stdout",
          "text": [
            "I am gng to learn NLP efficiently. \n",
            "\n",
            "In future I can crack a NLP based interview. \n",
            "\n"
          ]
        }
      ],
      "source": [
        "nlp = spacy.load(\"en_core_web_sm\")\n",
        "text = \"I am gng to learn NLP efficiently. In future I can crack a NLP based interview.\"\n",
        "doc = nlp(text)\n",
        "#individual part of a sentence having some semantic value\n",
        "for sent in doc.sents:\n",
        "  print(sent.text,\"\\n\")"
      ]
    },
    {
      "cell_type": "markdown",
      "metadata": {
        "id": "nUYQY6W8bUfJ"
      },
      "source": [
        "**WORD TOKENIZATION**"
      ]
    },
    {
      "cell_type": "code",
      "execution_count": null,
      "metadata": {
        "id": "vjukOBZ5bY90",
        "colab": {
          "base_uri": "https://localhost:8080/"
        },
        "outputId": "6d847310-9e75-4327-98e8-48a1612ffddd"
      },
      "outputs": [
        {
          "output_type": "stream",
          "name": "stdout",
          "text": [
            "I am gng to learn NLP efficiently.\n",
            "tokens: I\n",
            "tokens: am\n",
            "tokens: gng\n",
            "tokens: to\n",
            "tokens: learn\n",
            "tokens: NLP\n",
            "tokens: efficiently\n",
            "tokens: .\n",
            "In future I can crack a NLP based interview.\n",
            "tokens: In\n",
            "tokens: future\n",
            "tokens: I\n",
            "tokens: can\n",
            "tokens: crack\n",
            "tokens: a\n",
            "tokens: NLP\n",
            "tokens: based\n",
            "tokens: interview\n",
            "tokens: .\n"
          ]
        }
      ],
      "source": [
        "for sent in doc.sents:\n",
        "  print(sent.text)\n",
        "  for words in sent:\n",
        "    print(\"tokens:\",words)"
      ]
    },
    {
      "cell_type": "code",
      "execution_count": null,
      "metadata": {
        "id": "liaU5eopdOrw",
        "colab": {
          "base_uri": "https://localhost:8080/"
        },
        "outputId": "ddc3aad5-f1a3-4fb6-81d3-30c6b9fef17e"
      },
      "outputs": [
        {
          "output_type": "stream",
          "name": "stdout",
          "text": [
            "I -----> I\n",
            "am -----> be\n",
            "gng -----> gng\n",
            "to -----> to\n",
            "learn -----> learn\n",
            "NLP -----> NLP\n",
            "efficiently -----> efficiently\n",
            ". -----> .\n",
            "In -----> in\n",
            "future -----> future\n",
            "I -----> I\n",
            "can -----> can\n",
            "crack -----> crack\n",
            "a -----> a\n",
            "NLP -----> NLP\n",
            "based -----> base\n",
            "interview -----> interview\n",
            ". -----> .\n"
          ]
        }
      ],
      "source": [
        "sentence = sp(u'I am gng to learn NLP efficiently. In future I can crack a NLP based interview.')\n",
        "for word in sentence:\n",
        "  print(word.text,\"----->\",word.lemma_)"
      ]
    },
    {
      "cell_type": "code",
      "execution_count": null,
      "metadata": {
        "id": "RkRVVHUgduga",
        "colab": {
          "base_uri": "https://localhost:8080/"
        },
        "outputId": "f0bdd029-432e-45cb-e0c4-6ba2dd717221"
      },
      "outputs": [
        {
          "output_type": "stream",
          "name": "stdout",
          "text": [
            "change -----> change\n",
            "changing -----> change\n",
            "changes -----> change\n",
            "changed -----> change\n",
            "changer -----> changer\n"
          ]
        }
      ],
      "source": [
        "sentence1 = sp(u'change changing changes changed changer')\n",
        "for word in sentence1:\n",
        "  print(word.text,\"----->\",word.lemma_)"
      ]
    },
    {
      "cell_type": "code",
      "execution_count": null,
      "metadata": {
        "id": "wyPDxDfid9rL",
        "colab": {
          "base_uri": "https://localhost:8080/"
        },
        "outputId": "8aea170f-db7b-4f38-fc5a-8ab7c9615ce2"
      },
      "outputs": [
        {
          "output_type": "stream",
          "name": "stdout",
          "text": [
            "name -----> name\n",
            "named -----> name\n",
            "naming -----> name\n",
            "start -----> start\n",
            "started -----> start\n",
            "starting -----> start\n",
            "state -----> state\n",
            "stated -----> state\n",
            "stating -----> state\n",
            "statement -----> statement\n"
          ]
        }
      ],
      "source": [
        "sentence2 = sp(u'name named naming start started starting state stated stating statement')\n",
        "for word in sentence2:\n",
        "  print(word.text,\"----->\",word.lemma_)"
      ]
    },
    {
      "cell_type": "code",
      "execution_count": null,
      "metadata": {
        "id": "vNaeBhAYeYFP",
        "colab": {
          "base_uri": "https://localhost:8080/"
        },
        "outputId": "60231579-40b2-46c8-f8fd-04b93792b1ae"
      },
      "outputs": [
        {
          "output_type": "stream",
          "name": "stdout",
          "text": [
            "Martin -----> Martin\n",
            "J. -----> J.\n",
            "Thompson -----> Thompson\n",
            "is -----> be\n",
            "known -----> know\n",
            "for -----> for\n",
            "his -----> his\n",
            "writing -----> writing\n",
            "skills -----> skill\n",
            ". -----> .\n",
            "He -----> he\n",
            "is -----> be\n",
            "also -----> also\n",
            "good -----> good\n",
            "at -----> at\n",
            "programming -----> programming\n",
            ". -----> .\n",
            "He -----> he\n",
            "is -----> be\n",
            "also -----> also\n",
            "good -----> good\n",
            "at -----> at\n",
            "computing -----> compute\n",
            "program -----> program\n",
            "on -----> on\n",
            "a -----> a\n",
            "computer -----> computer\n"
          ]
        }
      ],
      "source": [
        "sentence2 = sp(u'Martin J. Thompson is known for his writing skills. He is also good at programming.He is also good at computing program on a computer')\n",
        "for word in sentence2:\n",
        "  print(word.text,\"----->\",word.lemma_)"
      ]
    },
    {
      "cell_type": "code",
      "execution_count": null,
      "metadata": {
        "id": "KS7Ziwu9YILy",
        "colab": {
          "base_uri": "https://localhost:8080/"
        },
        "outputId": "6eaa07ab-de34-4f37-ba7b-ed40d47360b9"
      },
      "outputs": [
        {
          "output_type": "stream",
          "name": "stdout",
          "text": [
            "DNA -----> dna\n",
            "decides -----> decide\n",
            "what -----> what\n",
            "we -----> we\n",
            "are -----> be\n",
            ", -----> ,\n",
            "but -----> but\n",
            "not -----> not\n",
            "who -----> who\n",
            "we -----> we\n",
            "are -----> be\n",
            ". -----> .\n",
            "What -----> what\n",
            "we -----> we\n",
            "are -----> be\n",
            "never -----> never\n",
            "changed -----> change\n",
            ", -----> ,\n",
            "but -----> but\n",
            "who -----> who\n",
            "we -----> we\n",
            "are -----> be\n",
            "never -----> never\n",
            "stopped -----> stop\n",
            "changing -----> change\n",
            ". -----> .\n"
          ]
        }
      ],
      "source": [
        "sen3 = sp(u\"DNA decides what we are, but not who we are.What we are never changed, but who we are never stopped changing.\")\n",
        "for word in sen3:\n",
        "  print(word.text,\"----->\",word.lemma_)"
      ]
    },
    {
      "cell_type": "markdown",
      "metadata": {
        "id": "Wvxoy7-SZBue"
      },
      "source": [
        "**POS Tagging**"
      ]
    },
    {
      "cell_type": "code",
      "execution_count": null,
      "metadata": {
        "id": "HEJ8IczYZFSx",
        "colab": {
          "base_uri": "https://localhost:8080/"
        },
        "outputId": "7c82e3e2-0c4a-4e56-dfbb-2b302283d72c"
      },
      "outputs": [
        {
          "output_type": "stream",
          "name": "stdout",
          "text": [
            "Martin ----> PROPN\n",
            "J. ----> PROPN\n",
            "Thompson ----> PROPN\n",
            "is ----> AUX\n",
            "known ----> VERB\n",
            "for ----> ADP\n",
            "his ----> PRON\n",
            "writing ----> NOUN\n",
            "skills ----> NOUN\n",
            ". ----> PUNCT\n",
            "He ----> PRON\n",
            "is ----> AUX\n",
            "also ----> ADV\n",
            "good ----> ADJ\n",
            "at ----> ADP\n",
            "programming ----> NOUN\n",
            ". ----> PUNCT\n"
          ]
        }
      ],
      "source": [
        "sen1=sp(\"Martin J. Thompson is known for his writing skills. He is also good at programming.\")\n",
        "for word in sen1:\n",
        "  print(word.text,\"---->\",word.pos_)"
      ]
    },
    {
      "cell_type": "code",
      "source": [
        "spacy.explain(\"ADP\")"
      ],
      "metadata": {
        "colab": {
          "base_uri": "https://localhost:8080/",
          "height": 35
        },
        "id": "n1Kylrg_tiU3",
        "outputId": "a82c040f-520f-42fb-88ad-f83442d7932c"
      },
      "execution_count": null,
      "outputs": [
        {
          "output_type": "execute_result",
          "data": {
            "text/plain": [
              "'adposition'"
            ],
            "application/vnd.google.colaboratory.intrinsic+json": {
              "type": "string"
            }
          },
          "metadata": {},
          "execution_count": 24
        }
      ]
    },
    {
      "cell_type": "code",
      "execution_count": null,
      "metadata": {
        "id": "2r2PgCioatrF",
        "colab": {
          "base_uri": "https://localhost:8080/",
          "height": 35
        },
        "outputId": "c1de890b-bd84-45e3-fa52-ef1e8535a68f"
      },
      "outputs": [
        {
          "output_type": "execute_result",
          "data": {
            "text/plain": [
              "'particle'"
            ],
            "application/vnd.google.colaboratory.intrinsic+json": {
              "type": "string"
            }
          },
          "metadata": {},
          "execution_count": 25
        }
      ],
      "source": [
        "spacy.explain(\"PART\")"
      ]
    },
    {
      "cell_type": "markdown",
      "metadata": {
        "id": "iZEVxaLPa5GZ"
      },
      "source": [
        "**STOP WORDS**"
      ]
    },
    {
      "cell_type": "code",
      "execution_count": null,
      "metadata": {
        "id": "dgE72M2_a1mk",
        "colab": {
          "base_uri": "https://localhost:8080/"
        },
        "outputId": "a24c1f04-5576-4ca9-b9aa-0dd420b47c3d"
      },
      "outputs": [
        {
          "output_type": "stream",
          "name": "stdout",
          "text": [
            "326\n",
            "{'which', 'her', 'many', 'neither', 'keep', '’ve', 'cannot', 'upon', 'itself', 'she', 'afterwards', 'the', 'when', 'part', 'without', '‘d', \"'ve\", 'so', 'those', 'by', 'nowhere', 'under', 'together', 'along', 'him', 'nobody', 'also', 'again', 'therefore', 'now', 'as', 'both', 'hundred', 'seem', 'alone', 'regarding', 'someone', 'show', 'make', 'i', 'either', 'while', 'already', 'n‘t', 'ours', 'last', 'herself', 'across', 'my', 'seeming', 'off', 'hereby', 'ever', 'various', 'have', 'say', 'doing', 'myself', 'seemed', 'its', 'even', 'then', '’ll', 'just', 'could', 'everyone', 'formerly', 'used', 'everything', 'third', 'a', 'above', 'can', 'using', 'we', 'please', 'during', 'there', 'six', 'elsewhere', 'towards', 'something', 'where', 'had', 'yours', 'all', 'throughout', 'most', 'once', 'after', \"'ll\", 'amongst', 'former', 'still', 'take', 'in', 'moreover', 'although', 'enough', 'them', '‘ll', 'anyway', 'yourself', 'wherever', 'am', 'to', 'you', 'below', 'another', 'between', 'these', 'nothing', 'get', 'yourselves', 'two', 'whatever', 'should', 'empty', 'sixty', 'mostly', 'down', 'really', 'it', 'must', 'was', \"'re\", 'always', 'further', 'side', 'be', 'may', 'their', 'somehow', 'might', 'more', 'any', '‘ve', 'put', 'next', 'other', 'but', 'twelve', 'nevertheless', 'hereafter', '’s', 'would', 'anyone', \"'s\", 'twenty', 'becoming', 'latter', 'often', \"'m\", 'give', 'move', 'yet', 'almost', 'being', 'front', 'that', 'what', 'how', 'who', 'perhaps', '’m', 'some', 'rather', 'beyond', 'mine', '‘re', 'himself', 'through', \"'d\", 'everywhere', 'whereas', 'ourselves', 'me', 'is', 'thus', 'least', 'up', 'much', 'anything', 'thereby', 'on', 'before', 'around', 'do', 'via', 'hence', 'same', 'does', 'very', 'no', 'this', 'against', 'less', 'due', 'become', 'forty', 'top', 'per', 'each', 'became', 'amount', 'been', 'did', '’d', '‘m', 'five', 'back', 'with', 'within', 'name', 'thru', 'fifty', 'see', 'until', 'well', 'becomes', 'go', 'hers', 'latterly', 'over', 'quite', 'from', 'anywhere', 'bottom', 'eight', 'wherein', 'has', 'his', 'will', 'whereupon', 'whereby', 'never', 'too', 'one', 're', 'whole', 'us', 'are', 'ca', 'three', 'besides', 'nor', 'others', 'somewhere', 'beside', 'behind', 'every', 'first', 'otherwise', 'an', 'seems', 'thence', 'however', 'were', 'unless', 'not', 'why', 'sometime', 'and', 'whose', 'fifteen', 'or', '’re', 'here', 'none', 'noone', 'among', '‘s', 'themselves', 'whether', 'into', 'therein', 'whither', 'about', 'he', 'than', 'though', 'thereupon', 'if', 'onto', 'serious', 'for', 'nine', 'thereafter', 'made', 'out', 'only', 'indeed', 'your', 'since', 'hereupon', 'ten', 'at', 'such', 'herein', 'call', 'done', 'beforehand', 'except', 'whereafter', 'meanwhile', 'several', 'whenever', 'n’t', 'because', 'they', 'namely', 'whom', \"n't\", 'our', 'anyhow', 'own', 'eleven', 'else', 'of', 'few', 'sometimes', 'four', 'full', 'whence', 'whoever', 'toward'}\n"
          ]
        }
      ],
      "source": [
        "stopwords = sp.Defaults.stop_words\n",
        "print(len(stopwords))\n",
        "print(stopwords)"
      ]
    },
    {
      "cell_type": "code",
      "execution_count": null,
      "metadata": {
        "id": "d1oUJEb-btHy",
        "colab": {
          "base_uri": "https://localhost:8080/"
        },
        "outputId": "4cb1a318-8e8c-4430-a24b-1549062c44b8"
      },
      "outputs": [
        {
          "output_type": "stream",
          "name": "stdout",
          "text": [
            "Tomorrow ---> False\n",
            "will ---> True\n",
            "be ---> True\n",
            "too ---> True\n",
            "late ---> False\n",
            ", ---> False\n",
            "its ---> True\n",
            "now ---> True\n",
            "or ---> True\n",
            "never ---> True\n"
          ]
        }
      ],
      "source": [
        "doc = sp(\"Tomorrow will be too late,its now or never\")\n",
        "for token in doc:\n",
        "  print(token.text,\"--->\",token.is_stop)"
      ]
    },
    {
      "cell_type": "code",
      "execution_count": null,
      "metadata": {
        "id": "ZD5S4t8tcTLz",
        "colab": {
          "base_uri": "https://localhost:8080/"
        },
        "outputId": "76263f62-9fc7-4475-fd72-98f6458766e7"
      },
      "outputs": [
        {
          "output_type": "stream",
          "name": "stdout",
          "text": [
            "327\n"
          ]
        }
      ],
      "source": [
        "sp.Defaults.stop_words.add(\"new_stopword\")\n",
        "sp.Defaults.stop_words.add(\"up\")\n",
        "stopwords = sp.Defaults.stop_words\n",
        "print(len(stopwords))"
      ]
    },
    {
      "cell_type": "markdown",
      "metadata": {
        "id": "WNjC_owAeML8"
      },
      "source": [
        "#Removing stop words from a text"
      ]
    },
    {
      "cell_type": "code",
      "execution_count": null,
      "metadata": {
        "id": "cij5B7MGdMXA",
        "colab": {
          "base_uri": "https://localhost:8080/"
        },
        "outputId": "64ed5d78-3e9f-4609-c1eb-a7b63028607a"
      },
      "outputs": [
        {
          "output_type": "stream",
          "name": "stdout",
          "text": [
            "325\n"
          ]
        }
      ],
      "source": [
        "stopwords = stopwords-{\"will\",\"be\"}\n",
        "#stopwords = sp.Defaults.stop_words\n",
        "print(len(stopwords))"
      ]
    },
    {
      "cell_type": "markdown",
      "metadata": {
        "id": "naa24gNgdalA"
      },
      "source": [
        "DEPENDENCY PARSING"
      ]
    },
    {
      "cell_type": "code",
      "execution_count": null,
      "metadata": {
        "id": "CPMtMuPDddiV",
        "colab": {
          "base_uri": "https://localhost:8080/"
        },
        "outputId": "725efe50-e1f9-47d4-a266-7eb790a53fc6"
      },
      "outputs": [
        {
          "output_type": "stream",
          "name": "stdout",
          "text": [
            "Martin --- PROPN --- compound\n",
            "J. --- PROPN --- compound\n",
            "Thompson --- PROPN --- nsubjpass\n",
            "is --- AUX --- auxpass\n",
            "known --- VERB --- ROOT\n",
            "for --- ADP --- prep\n",
            "his --- PRON --- poss\n",
            "writing --- NOUN --- compound\n",
            "skills --- NOUN --- pobj\n",
            ". --- PUNCT --- punct\n",
            "He --- PRON --- nsubj\n",
            "is --- AUX --- ROOT\n",
            "also --- ADV --- advmod\n",
            "good --- ADJ --- acomp\n",
            "at --- ADP --- prep\n",
            "programming --- NOUN --- pobj\n",
            ". --- PUNCT --- punct\n"
          ]
        }
      ],
      "source": [
        "#dependency parsing, the attribute dep_\n",
        "for word in sen1:\n",
        "  print(word.text,\"---\",word.pos_,\"---\",word.dep_)"
      ]
    },
    {
      "cell_type": "code",
      "execution_count": null,
      "metadata": {
        "id": "V_0tt6wOfIpp",
        "colab": {
          "base_uri": "https://localhost:8080/",
          "height": 328
        },
        "outputId": "8c9efca5-3f90-4d9b-fc26-8b5fa4a47356"
      },
      "outputs": [
        {
          "output_type": "display_data",
          "data": {
            "text/plain": [
              "<IPython.core.display.HTML object>"
            ],
            "text/html": [
              "<span class=\"tex2jax_ignore\"><svg xmlns=\"http://www.w3.org/2000/svg\" xmlns:xlink=\"http://www.w3.org/1999/xlink\" xml:lang=\"en\" id=\"9388905c28c64ac5aa8211755442a69f-0\" class=\"displacy\" width=\"1550\" height=\"287.0\" direction=\"ltr\" style=\"max-width: none; height: 287.0px; color: #000000; background: #ffffff; font-family: Arial; direction: ltr\">\n",
              "<text class=\"displacy-token\" fill=\"currentColor\" text-anchor=\"middle\" y=\"197.0\">\n",
              "    <tspan class=\"displacy-word\" fill=\"currentColor\" x=\"50\">Martin</tspan>\n",
              "    <tspan class=\"displacy-tag\" dy=\"2em\" fill=\"currentColor\" x=\"50\">PROPN</tspan>\n",
              "</text>\n",
              "\n",
              "<text class=\"displacy-token\" fill=\"currentColor\" text-anchor=\"middle\" y=\"197.0\">\n",
              "    <tspan class=\"displacy-word\" fill=\"currentColor\" x=\"150\">J.</tspan>\n",
              "    <tspan class=\"displacy-tag\" dy=\"2em\" fill=\"currentColor\" x=\"150\">PROPN</tspan>\n",
              "</text>\n",
              "\n",
              "<text class=\"displacy-token\" fill=\"currentColor\" text-anchor=\"middle\" y=\"197.0\">\n",
              "    <tspan class=\"displacy-word\" fill=\"currentColor\" x=\"250\">Thompson</tspan>\n",
              "    <tspan class=\"displacy-tag\" dy=\"2em\" fill=\"currentColor\" x=\"250\">PROPN</tspan>\n",
              "</text>\n",
              "\n",
              "<text class=\"displacy-token\" fill=\"currentColor\" text-anchor=\"middle\" y=\"197.0\">\n",
              "    <tspan class=\"displacy-word\" fill=\"currentColor\" x=\"350\">is</tspan>\n",
              "    <tspan class=\"displacy-tag\" dy=\"2em\" fill=\"currentColor\" x=\"350\">AUX</tspan>\n",
              "</text>\n",
              "\n",
              "<text class=\"displacy-token\" fill=\"currentColor\" text-anchor=\"middle\" y=\"197.0\">\n",
              "    <tspan class=\"displacy-word\" fill=\"currentColor\" x=\"450\">known</tspan>\n",
              "    <tspan class=\"displacy-tag\" dy=\"2em\" fill=\"currentColor\" x=\"450\">VERB</tspan>\n",
              "</text>\n",
              "\n",
              "<text class=\"displacy-token\" fill=\"currentColor\" text-anchor=\"middle\" y=\"197.0\">\n",
              "    <tspan class=\"displacy-word\" fill=\"currentColor\" x=\"550\">for</tspan>\n",
              "    <tspan class=\"displacy-tag\" dy=\"2em\" fill=\"currentColor\" x=\"550\">ADP</tspan>\n",
              "</text>\n",
              "\n",
              "<text class=\"displacy-token\" fill=\"currentColor\" text-anchor=\"middle\" y=\"197.0\">\n",
              "    <tspan class=\"displacy-word\" fill=\"currentColor\" x=\"650\">his</tspan>\n",
              "    <tspan class=\"displacy-tag\" dy=\"2em\" fill=\"currentColor\" x=\"650\">PRON</tspan>\n",
              "</text>\n",
              "\n",
              "<text class=\"displacy-token\" fill=\"currentColor\" text-anchor=\"middle\" y=\"197.0\">\n",
              "    <tspan class=\"displacy-word\" fill=\"currentColor\" x=\"750\">writing</tspan>\n",
              "    <tspan class=\"displacy-tag\" dy=\"2em\" fill=\"currentColor\" x=\"750\">NOUN</tspan>\n",
              "</text>\n",
              "\n",
              "<text class=\"displacy-token\" fill=\"currentColor\" text-anchor=\"middle\" y=\"197.0\">\n",
              "    <tspan class=\"displacy-word\" fill=\"currentColor\" x=\"850\">skills.</tspan>\n",
              "    <tspan class=\"displacy-tag\" dy=\"2em\" fill=\"currentColor\" x=\"850\">NOUN</tspan>\n",
              "</text>\n",
              "\n",
              "<text class=\"displacy-token\" fill=\"currentColor\" text-anchor=\"middle\" y=\"197.0\">\n",
              "    <tspan class=\"displacy-word\" fill=\"currentColor\" x=\"950\">He</tspan>\n",
              "    <tspan class=\"displacy-tag\" dy=\"2em\" fill=\"currentColor\" x=\"950\">PRON</tspan>\n",
              "</text>\n",
              "\n",
              "<text class=\"displacy-token\" fill=\"currentColor\" text-anchor=\"middle\" y=\"197.0\">\n",
              "    <tspan class=\"displacy-word\" fill=\"currentColor\" x=\"1050\">is</tspan>\n",
              "    <tspan class=\"displacy-tag\" dy=\"2em\" fill=\"currentColor\" x=\"1050\">AUX</tspan>\n",
              "</text>\n",
              "\n",
              "<text class=\"displacy-token\" fill=\"currentColor\" text-anchor=\"middle\" y=\"197.0\">\n",
              "    <tspan class=\"displacy-word\" fill=\"currentColor\" x=\"1150\">also</tspan>\n",
              "    <tspan class=\"displacy-tag\" dy=\"2em\" fill=\"currentColor\" x=\"1150\">ADV</tspan>\n",
              "</text>\n",
              "\n",
              "<text class=\"displacy-token\" fill=\"currentColor\" text-anchor=\"middle\" y=\"197.0\">\n",
              "    <tspan class=\"displacy-word\" fill=\"currentColor\" x=\"1250\">good</tspan>\n",
              "    <tspan class=\"displacy-tag\" dy=\"2em\" fill=\"currentColor\" x=\"1250\">ADJ</tspan>\n",
              "</text>\n",
              "\n",
              "<text class=\"displacy-token\" fill=\"currentColor\" text-anchor=\"middle\" y=\"197.0\">\n",
              "    <tspan class=\"displacy-word\" fill=\"currentColor\" x=\"1350\">at</tspan>\n",
              "    <tspan class=\"displacy-tag\" dy=\"2em\" fill=\"currentColor\" x=\"1350\">ADP</tspan>\n",
              "</text>\n",
              "\n",
              "<text class=\"displacy-token\" fill=\"currentColor\" text-anchor=\"middle\" y=\"197.0\">\n",
              "    <tspan class=\"displacy-word\" fill=\"currentColor\" x=\"1450\">programming.</tspan>\n",
              "    <tspan class=\"displacy-tag\" dy=\"2em\" fill=\"currentColor\" x=\"1450\">NOUN</tspan>\n",
              "</text>\n",
              "\n",
              "<g class=\"displacy-arrow\">\n",
              "    <path class=\"displacy-arc\" id=\"arrow-9388905c28c64ac5aa8211755442a69f-0-0\" stroke-width=\"2px\" d=\"M70,152.0 C70,52.0 245.0,52.0 245.0,152.0\" fill=\"none\" stroke=\"currentColor\"/>\n",
              "    <text dy=\"1.25em\" style=\"font-size: 0.8em; letter-spacing: 1px\">\n",
              "        <textPath xlink:href=\"#arrow-9388905c28c64ac5aa8211755442a69f-0-0\" class=\"displacy-label\" startOffset=\"50%\" side=\"left\" fill=\"currentColor\" text-anchor=\"middle\">compound</textPath>\n",
              "    </text>\n",
              "    <path class=\"displacy-arrowhead\" d=\"M70,154.0 L62,142.0 78,142.0\" fill=\"currentColor\"/>\n",
              "</g>\n",
              "\n",
              "<g class=\"displacy-arrow\">\n",
              "    <path class=\"displacy-arc\" id=\"arrow-9388905c28c64ac5aa8211755442a69f-0-1\" stroke-width=\"2px\" d=\"M170,152.0 C170,102.0 240.0,102.0 240.0,152.0\" fill=\"none\" stroke=\"currentColor\"/>\n",
              "    <text dy=\"1.25em\" style=\"font-size: 0.8em; letter-spacing: 1px\">\n",
              "        <textPath xlink:href=\"#arrow-9388905c28c64ac5aa8211755442a69f-0-1\" class=\"displacy-label\" startOffset=\"50%\" side=\"left\" fill=\"currentColor\" text-anchor=\"middle\">compound</textPath>\n",
              "    </text>\n",
              "    <path class=\"displacy-arrowhead\" d=\"M170,154.0 L162,142.0 178,142.0\" fill=\"currentColor\"/>\n",
              "</g>\n",
              "\n",
              "<g class=\"displacy-arrow\">\n",
              "    <path class=\"displacy-arc\" id=\"arrow-9388905c28c64ac5aa8211755442a69f-0-2\" stroke-width=\"2px\" d=\"M270,152.0 C270,52.0 445.0,52.0 445.0,152.0\" fill=\"none\" stroke=\"currentColor\"/>\n",
              "    <text dy=\"1.25em\" style=\"font-size: 0.8em; letter-spacing: 1px\">\n",
              "        <textPath xlink:href=\"#arrow-9388905c28c64ac5aa8211755442a69f-0-2\" class=\"displacy-label\" startOffset=\"50%\" side=\"left\" fill=\"currentColor\" text-anchor=\"middle\">nsubjpass</textPath>\n",
              "    </text>\n",
              "    <path class=\"displacy-arrowhead\" d=\"M270,154.0 L262,142.0 278,142.0\" fill=\"currentColor\"/>\n",
              "</g>\n",
              "\n",
              "<g class=\"displacy-arrow\">\n",
              "    <path class=\"displacy-arc\" id=\"arrow-9388905c28c64ac5aa8211755442a69f-0-3\" stroke-width=\"2px\" d=\"M370,152.0 C370,102.0 440.0,102.0 440.0,152.0\" fill=\"none\" stroke=\"currentColor\"/>\n",
              "    <text dy=\"1.25em\" style=\"font-size: 0.8em; letter-spacing: 1px\">\n",
              "        <textPath xlink:href=\"#arrow-9388905c28c64ac5aa8211755442a69f-0-3\" class=\"displacy-label\" startOffset=\"50%\" side=\"left\" fill=\"currentColor\" text-anchor=\"middle\">auxpass</textPath>\n",
              "    </text>\n",
              "    <path class=\"displacy-arrowhead\" d=\"M370,154.0 L362,142.0 378,142.0\" fill=\"currentColor\"/>\n",
              "</g>\n",
              "\n",
              "<g class=\"displacy-arrow\">\n",
              "    <path class=\"displacy-arc\" id=\"arrow-9388905c28c64ac5aa8211755442a69f-0-4\" stroke-width=\"2px\" d=\"M470,152.0 C470,102.0 540.0,102.0 540.0,152.0\" fill=\"none\" stroke=\"currentColor\"/>\n",
              "    <text dy=\"1.25em\" style=\"font-size: 0.8em; letter-spacing: 1px\">\n",
              "        <textPath xlink:href=\"#arrow-9388905c28c64ac5aa8211755442a69f-0-4\" class=\"displacy-label\" startOffset=\"50%\" side=\"left\" fill=\"currentColor\" text-anchor=\"middle\">prep</textPath>\n",
              "    </text>\n",
              "    <path class=\"displacy-arrowhead\" d=\"M540.0,154.0 L548.0,142.0 532.0,142.0\" fill=\"currentColor\"/>\n",
              "</g>\n",
              "\n",
              "<g class=\"displacy-arrow\">\n",
              "    <path class=\"displacy-arc\" id=\"arrow-9388905c28c64ac5aa8211755442a69f-0-5\" stroke-width=\"2px\" d=\"M670,152.0 C670,52.0 845.0,52.0 845.0,152.0\" fill=\"none\" stroke=\"currentColor\"/>\n",
              "    <text dy=\"1.25em\" style=\"font-size: 0.8em; letter-spacing: 1px\">\n",
              "        <textPath xlink:href=\"#arrow-9388905c28c64ac5aa8211755442a69f-0-5\" class=\"displacy-label\" startOffset=\"50%\" side=\"left\" fill=\"currentColor\" text-anchor=\"middle\">poss</textPath>\n",
              "    </text>\n",
              "    <path class=\"displacy-arrowhead\" d=\"M670,154.0 L662,142.0 678,142.0\" fill=\"currentColor\"/>\n",
              "</g>\n",
              "\n",
              "<g class=\"displacy-arrow\">\n",
              "    <path class=\"displacy-arc\" id=\"arrow-9388905c28c64ac5aa8211755442a69f-0-6\" stroke-width=\"2px\" d=\"M770,152.0 C770,102.0 840.0,102.0 840.0,152.0\" fill=\"none\" stroke=\"currentColor\"/>\n",
              "    <text dy=\"1.25em\" style=\"font-size: 0.8em; letter-spacing: 1px\">\n",
              "        <textPath xlink:href=\"#arrow-9388905c28c64ac5aa8211755442a69f-0-6\" class=\"displacy-label\" startOffset=\"50%\" side=\"left\" fill=\"currentColor\" text-anchor=\"middle\">compound</textPath>\n",
              "    </text>\n",
              "    <path class=\"displacy-arrowhead\" d=\"M770,154.0 L762,142.0 778,142.0\" fill=\"currentColor\"/>\n",
              "</g>\n",
              "\n",
              "<g class=\"displacy-arrow\">\n",
              "    <path class=\"displacy-arc\" id=\"arrow-9388905c28c64ac5aa8211755442a69f-0-7\" stroke-width=\"2px\" d=\"M570,152.0 C570,2.0 850.0,2.0 850.0,152.0\" fill=\"none\" stroke=\"currentColor\"/>\n",
              "    <text dy=\"1.25em\" style=\"font-size: 0.8em; letter-spacing: 1px\">\n",
              "        <textPath xlink:href=\"#arrow-9388905c28c64ac5aa8211755442a69f-0-7\" class=\"displacy-label\" startOffset=\"50%\" side=\"left\" fill=\"currentColor\" text-anchor=\"middle\">pobj</textPath>\n",
              "    </text>\n",
              "    <path class=\"displacy-arrowhead\" d=\"M850.0,154.0 L858.0,142.0 842.0,142.0\" fill=\"currentColor\"/>\n",
              "</g>\n",
              "\n",
              "<g class=\"displacy-arrow\">\n",
              "    <path class=\"displacy-arc\" id=\"arrow-9388905c28c64ac5aa8211755442a69f-0-8\" stroke-width=\"2px\" d=\"M970,152.0 C970,102.0 1040.0,102.0 1040.0,152.0\" fill=\"none\" stroke=\"currentColor\"/>\n",
              "    <text dy=\"1.25em\" style=\"font-size: 0.8em; letter-spacing: 1px\">\n",
              "        <textPath xlink:href=\"#arrow-9388905c28c64ac5aa8211755442a69f-0-8\" class=\"displacy-label\" startOffset=\"50%\" side=\"left\" fill=\"currentColor\" text-anchor=\"middle\">nsubj</textPath>\n",
              "    </text>\n",
              "    <path class=\"displacy-arrowhead\" d=\"M970,154.0 L962,142.0 978,142.0\" fill=\"currentColor\"/>\n",
              "</g>\n",
              "\n",
              "<g class=\"displacy-arrow\">\n",
              "    <path class=\"displacy-arc\" id=\"arrow-9388905c28c64ac5aa8211755442a69f-0-9\" stroke-width=\"2px\" d=\"M1070,152.0 C1070,102.0 1140.0,102.0 1140.0,152.0\" fill=\"none\" stroke=\"currentColor\"/>\n",
              "    <text dy=\"1.25em\" style=\"font-size: 0.8em; letter-spacing: 1px\">\n",
              "        <textPath xlink:href=\"#arrow-9388905c28c64ac5aa8211755442a69f-0-9\" class=\"displacy-label\" startOffset=\"50%\" side=\"left\" fill=\"currentColor\" text-anchor=\"middle\">advmod</textPath>\n",
              "    </text>\n",
              "    <path class=\"displacy-arrowhead\" d=\"M1140.0,154.0 L1148.0,142.0 1132.0,142.0\" fill=\"currentColor\"/>\n",
              "</g>\n",
              "\n",
              "<g class=\"displacy-arrow\">\n",
              "    <path class=\"displacy-arc\" id=\"arrow-9388905c28c64ac5aa8211755442a69f-0-10\" stroke-width=\"2px\" d=\"M1070,152.0 C1070,52.0 1245.0,52.0 1245.0,152.0\" fill=\"none\" stroke=\"currentColor\"/>\n",
              "    <text dy=\"1.25em\" style=\"font-size: 0.8em; letter-spacing: 1px\">\n",
              "        <textPath xlink:href=\"#arrow-9388905c28c64ac5aa8211755442a69f-0-10\" class=\"displacy-label\" startOffset=\"50%\" side=\"left\" fill=\"currentColor\" text-anchor=\"middle\">acomp</textPath>\n",
              "    </text>\n",
              "    <path class=\"displacy-arrowhead\" d=\"M1245.0,154.0 L1253.0,142.0 1237.0,142.0\" fill=\"currentColor\"/>\n",
              "</g>\n",
              "\n",
              "<g class=\"displacy-arrow\">\n",
              "    <path class=\"displacy-arc\" id=\"arrow-9388905c28c64ac5aa8211755442a69f-0-11\" stroke-width=\"2px\" d=\"M1070,152.0 C1070,2.0 1350.0,2.0 1350.0,152.0\" fill=\"none\" stroke=\"currentColor\"/>\n",
              "    <text dy=\"1.25em\" style=\"font-size: 0.8em; letter-spacing: 1px\">\n",
              "        <textPath xlink:href=\"#arrow-9388905c28c64ac5aa8211755442a69f-0-11\" class=\"displacy-label\" startOffset=\"50%\" side=\"left\" fill=\"currentColor\" text-anchor=\"middle\">prep</textPath>\n",
              "    </text>\n",
              "    <path class=\"displacy-arrowhead\" d=\"M1350.0,154.0 L1358.0,142.0 1342.0,142.0\" fill=\"currentColor\"/>\n",
              "</g>\n",
              "\n",
              "<g class=\"displacy-arrow\">\n",
              "    <path class=\"displacy-arc\" id=\"arrow-9388905c28c64ac5aa8211755442a69f-0-12\" stroke-width=\"2px\" d=\"M1370,152.0 C1370,102.0 1440.0,102.0 1440.0,152.0\" fill=\"none\" stroke=\"currentColor\"/>\n",
              "    <text dy=\"1.25em\" style=\"font-size: 0.8em; letter-spacing: 1px\">\n",
              "        <textPath xlink:href=\"#arrow-9388905c28c64ac5aa8211755442a69f-0-12\" class=\"displacy-label\" startOffset=\"50%\" side=\"left\" fill=\"currentColor\" text-anchor=\"middle\">pobj</textPath>\n",
              "    </text>\n",
              "    <path class=\"displacy-arrowhead\" d=\"M1440.0,154.0 L1448.0,142.0 1432.0,142.0\" fill=\"currentColor\"/>\n",
              "</g>\n",
              "</svg></span>"
            ]
          },
          "metadata": {}
        }
      ],
      "source": [
        "from spacy import  displacy\n",
        "#using displacy to visualize the dependency\n",
        "displacy.render(sen1,style='dep',jupyter=True,options={'distance':100})"
      ]
    },
    {
      "cell_type": "code",
      "execution_count": null,
      "metadata": {
        "id": "mh7sx7rzgS3o",
        "colab": {
          "base_uri": "https://localhost:8080/"
        },
        "outputId": "f3cca8a2-4f1a-483d-fdf8-79b6980bcf0f"
      },
      "outputs": [
        {
          "output_type": "stream",
          "name": "stdout",
          "text": [
            "Martin      PROPN     compound  \n",
            "J.          PROPN     compound  \n",
            "Thompson    PROPN     nsubjpass \n",
            "is          AUX       auxpass   \n",
            "known       VERB      ROOT      \n",
            "for         ADP       prep      \n",
            "his         PRON      poss      \n",
            "writing     NOUN      compound  \n",
            "skills      NOUN      pobj      \n",
            ".           PUNCT     punct     \n",
            "He          PRON      nsubj     \n",
            "is          AUX       ROOT      \n",
            "also        ADV       advmod    \n",
            "good        ADJ       acomp     \n",
            "at          ADP       prep      \n",
            "programming NOUN      pobj      \n",
            ".           PUNCT     punct     \n"
          ]
        }
      ],
      "source": [
        "text = \"TCS Company to breach $100 billion market\"\n",
        "doc = nlp(text)\n",
        "for token in sen1:\n",
        "  token_text = token.text\n",
        "  token_pos = token.pos_\n",
        "  token_dep = token.dep_\n",
        "  print(f\"{token_text:<12}{token_pos:<10}{token_dep:<10}\")"
      ]
    },
    {
      "cell_type": "code",
      "execution_count": null,
      "metadata": {
        "id": "OuQDdXX5iYRA",
        "colab": {
          "base_uri": "https://localhost:8080/"
        },
        "outputId": "474ffee8-4139-4c54-d0e5-51626eda8cc6"
      },
      "outputs": [
        {
          "output_type": "stream",
          "name": "stdout",
          "text": [
            "TCS-ORG-Companies, agencies, institutions, etc.\n",
            "first-ORDINAL-\"first\", \"second\", etc.\n",
            "Indian-NORP-Nationalities or religious or political groups\n",
            "$100 billion-MONEY-Monetary values, including unit\n"
          ]
        }
      ],
      "source": [
        "Text = \"It's official: TCS becomes first Indian company to breach $100 billion market\"\n",
        "doc = nlp(Text)\n",
        "for entity in doc.ents:\n",
        "  print(entity.text+\"-\"+entity.label_+\"-\"+str(spacy.explain(entity.label_)))"
      ]
    }
  ],
  "metadata": {
    "accelerator": "GPU",
    "colab": {
      "provenance": [],
      "gpuType": "T4"
    },
    "kernelspec": {
      "display_name": "Python 3",
      "name": "python3"
    },
    "language_info": {
      "name": "python"
    }
  },
  "nbformat": 4,
  "nbformat_minor": 0
}